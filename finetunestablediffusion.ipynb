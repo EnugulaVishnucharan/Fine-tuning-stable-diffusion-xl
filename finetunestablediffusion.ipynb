{
 "cells": [
  {
   "cell_type": "markdown",
   "metadata": {},
   "source": [
    "Fine-Tuning SDXL using AutoTrain Advanced"
   ]
  },
  {
   "cell_type": "code",
   "execution_count": null,
   "metadata": {},
   "outputs": [],
   "source": [
    "%pip install -U autotrain-advanced"
   ]
  },
  {
   "cell_type": "code",
   "execution_count": null,
   "metadata": {},
   "outputs": [],
   "source": [
    "PROJECT_NAME = \"name_of_project\"\n",
    "MODEL_NAME = \"stabilityai/stable-diffusion-xl-base-1.0\"\n",
    "DATA_DIR = \"photos_path\"\n",
    "REPO_ID = \"hf_repo_id\""
   ]
  },
  {
   "cell_type": "code",
   "execution_count": null,
   "metadata": {},
   "outputs": [],
   "source": [
    "from kaggle_secrets import UserSecretsClient\n",
    "user_secrets = UserSecretsClient()\n",
    "HF_TOKEN = user_secrets.get_secret(\"HUGGINGFACE_TOKEN\")"
   ]
  },
  {
   "cell_type": "code",
   "execution_count": null,
   "metadata": {},
   "outputs": [],
   "source": [
    "from PIL import Image\n",
    "\n",
    "def image_grid(imgs, rows, cols, resize=256):\n",
    "    assert len(imgs) == rows * cols\n",
    "\n",
    "    if resize is not None:\n",
    "        imgs = [img.resize((resize, resize)) for img in imgs]\n",
    "\n",
    "    w, h = imgs[0].size\n",
    "    grid_w, grid_h = cols * w, rows * h\n",
    "    grid = Image.new(\"RGB\", size=(grid_w, grid_h))\n",
    "\n",
    "    for i, img in enumerate(imgs):\n",
    "        x = i % cols * w\n",
    "        y = i // cols * h\n",
    "        grid.paste(img, box=(x, y))\n",
    "\n",
    "    return grid\n",
    "\n",
    "import glob"
   ]
  },
  {
   "cell_type": "code",
   "execution_count": null,
   "metadata": {},
   "outputs": [],
   "source": [
    "imgs = [Image.open(path) for path in glob.glob(\"path_to_images\")]\n",
    "image_grid(imgs, 1, 5)"
   ]
  },
  {
   "cell_type": "markdown",
   "metadata": {},
   "source": [
    "AutoTrain Dream Booth Training Script"
   ]
  },
  {
   "cell_type": "code",
   "execution_count": null,
   "metadata": {},
   "outputs": [],
   "source": [
    "!autotrain dreambooth \\\n",
    "--model $MODEL_NAME \\\n",
    "--project-name $PROJECT_NAME \\\n",
    "--image-path $DATA_DIR \\\n",
    "--prompt \"Descrition of the photos used\" \\\n",
    "--resolution 1024 \\\n",
    "--batch-size 1 \\\n",
    "--num-steps 500 \\\n",
    "--gradient-accumulation 4 \\\n",
    "--lr 1e-4 \\\n",
    "--fp16 \\\n",
    "--gradient-checkpointing \\\n",
    "--push-to-hub \\\n",
    "--token $HF_TOKEN \\\n",
    "--repo-id $REPO_ID"
   ]
  },
  {
   "cell_type": "markdown",
   "metadata": {},
   "source": [
    "SDXL Fine-tuned Model Inference"
   ]
  },
  {
   "cell_type": "code",
   "execution_count": null,
   "metadata": {},
   "outputs": [],
   "source": [
    "from diffusers import DiffusionPipeline, AutoencoderKL, StableDiffusionXLImg2ImgPipeline\n",
    "\n",
    "import torch\n",
    "\n",
    "vae = AutoencoderKL.from_pretrained(\n",
    "    \"madebyollin/sdxl-vae-fp16-fix\", \n",
    "    torch_dtype=torch.float16\n",
    ")\n",
    "pipe = DiffusionPipeline.from_pretrained(\n",
    "    \"stabilityai/stable-diffusion-xl-base-1.0\",\n",
    "    vae=vae,\n",
    "    torch_dtype=torch.float16,\n",
    "    variant=\"fp16\",\n",
    "    use_safetensors=True,\n",
    ")\n",
    "pipe.to(\"cuda\");\n",
    "pipe.load_lora_weights(REPO_ID, weight_name=\"pytorch_lora_weights.safetensors\")\n",
    "\n",
    "\n",
    "prompt = \"Write the promt required\"\n",
    "\n",
    "image = pipe(prompt=prompt, num_inference_steps=25, num_images_per_prompt = 3)\n",
    "image_grid(image.images, 1, 3)"
   ]
  }
 ],
 "metadata": {
  "kernelspec": {
   "display_name": "Python 3",
   "language": "python",
   "name": "python3"
  },
  "language_info": {
   "name": "python",
   "version": "3.11.4"
  }
 },
 "nbformat": 4,
 "nbformat_minor": 2
}
